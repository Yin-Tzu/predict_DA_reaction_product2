{
 "cells": [
  {
   "cell_type": "markdown",
   "id": "a2006868",
   "metadata": {},
   "source": [
    "### import"
   ]
  },
  {
   "cell_type": "code",
   "execution_count": 1,
   "id": "fd2c5f85",
   "metadata": {},
   "outputs": [],
   "source": [
    "import cv2\n",
    "#from sklearn.preprocessing import MinMaxScaler\n",
    "import numpy as np\n",
    "#import joblib\n",
    "import tensorflow as tf\n",
    "import scipy.linalg as la\n",
    "import random\n",
    "#from google.colab.patches import cv2_imshow\n",
    "import copy\n",
    "import time\n",
    "from rdkit.Chem import AllChem, Draw\n",
    "from rdkit import Chem\n",
    "from PIL import Image\n",
    "import math\n",
    "# from rdkit.Chem.Draw import IPythonConsole\n",
    "from rdkit.Chem.Draw import MolDrawing, DrawingOptions\n",
    "import py3Dmol\n",
    "# from IPython.display import display\n",
    "import matplotlib.pyplot as plt  # plt 用於顯示圖片\n",
    "import matplotlib.image as mpimg  # mpimg 用於讀取圖片\n",
    "import os\n",
    "#import pathlib\n",
    "#import gradio as gr\n",
    "import ipywidgets as widgets\n",
    "import tkinter as tk\n",
    "from tkinter import filedialog\n",
    "import filetype\n",
    "from IPython.display import display, clear_output\n",
    "from ipywidgets import IntSlider, Output"
   ]
  },
  {
   "cell_type": "markdown",
   "id": "936cd4ab",
   "metadata": {},
   "source": [
    "buttom所需"
   ]
  },
  {
   "cell_type": "code",
   "execution_count": 2,
   "id": "a4f504f9",
   "metadata": {},
   "outputs": [],
   "source": [
    "out = Output()"
   ]
  },
  {
   "cell_type": "markdown",
   "id": "09975f4d",
   "metadata": {},
   "source": [
    "## 輸入檔案(步驟1)"
   ]
  },
  {
   "cell_type": "markdown",
   "id": "b1c289cc",
   "metadata": {},
   "source": [
    "輸入*檔案位置*與*數字*(使用一次輸入一張圖片或影片)\n",
    "\n",
    "    (刪除:(存入檔案名稱進*inputfile*(例如:'image'))，因一張圖片使用一次函數)\n",
    "    \n",
    "    若是圖案就輸入檔案位置呈現圖案，之後resize成300X300像素，3維變4維是dst(刪除:(存入*dim4resizeimg*))\n",
    "    \n",
    "    若是其他的(也就是影片)就使用cutvideotoimage這個函數(該函數需要*數字*以儲存很多圖片檔案)，然後是dst(刪除:(存入*dim4resizeimg*))\n",
    "    \n",
    "輸出*str(kind.mime).split('/')[0]* 與 *dst*，分別是一個圖案的*檔案種類*與*檔案像素*。\n",
    "\n",
    "ps裡面使用到了cutvideotoimage自定義函數"
   ]
  },
  {
   "cell_type": "code",
   "execution_count": 3,
   "id": "487da590",
   "metadata": {},
   "outputs": [],
   "source": [
    "\n",
    "def input_file(file_path, input_number):\n",
    "    #print(inputfile)\n",
    "    fileURL = (file_path)\n",
    "    kind = filetype.guess(fileURL)                                                    #抽出File類型\n",
    "    #inputfile.append(str(kind.mime).split('/')[0])\n",
    "    if str(kind.mime).split('/')[0]=='image':                                         #若輸入檔案是圖片\n",
    "         # 顯示圖片\n",
    "        img = mpimg.imread(file_path)                                                 # 讀取和程式碼處於同一目錄下的 i\n",
    "        # 此時 img 是一個 np.array 了，可以對它進行任意處理\n",
    "        plt.imshow(img)                                                               # 顯示圖片\n",
    "        plt.axis('off')                                                               # 不顯示座標軸\n",
    "        plt.show()\n",
    "        # cv2_imshow(im)\n",
    "        # 圖片壓縮成像素300*300\n",
    "        im = copy.deepcopy(cv2.imread(file_path))                                      # 讀取和程式碼處於同一目錄下的 i\n",
    "        # 此時 im 是一個 np.array 了，可以對它進行任意處理\n",
    "        dst = copy.deepcopy(cv2.resize(im, (300, 300), interpolation=cv2.INTER_AREA))  # resize\n",
    "        dst = copy.deepcopy(dst[np.newaxis, :])                                        # 3維變4維\n",
    "        #dim4resizeimg.append(dst)\n",
    "    else:                                                                              # 若輸入不是圖片(而是影片)\n",
    "        #dim4resizeimg.append(cutvideotoimage(file_path, str(input_number)+'image', str(input_number)+'data'))\n",
    "        dst=cutvideotoimage(file_path, str(input_number)+'image', str(input_number)+'data')\n",
    "    return str(kind.mime).split('/')[0],dst"
   ]
  },
  {
   "cell_type": "markdown",
   "id": "1804d6c1",
   "metadata": {},
   "source": [
    "沒輸入\n",
    "\n",
    "    從外部檔案輸入圖片位置\n",
    "    \n",
    "    使用到 input_file 函數輸入*檔案位置*與*數字*得到一張張*圖片種類*與*像素*與呈現\n",
    "    \n",
    "    每張存入*dim4resizeimg*與*inputfile*\n",
    "    \n",
    "輸出*inputfile*與*dim4resizeimg*，分別是*檔案種類*與*檔案像素*。dim4resizeimg=[檔案1四維, 檔案2四維]  影片與圖片的數量不同\n",
    "\n",
    "ps裡面使用到了 input_file自定義函數"
   ]
  },
  {
   "cell_type": "code",
   "execution_count": 4,
   "id": "54724073",
   "metadata": {},
   "outputs": [],
   "source": [
    "def frf(ppo):\n",
    "    dim4resizeimg=[]\n",
    "    inputfile = []\n",
    "    root = tk.Tk()\n",
    "    root.withdraw()\n",
    "    file_path_storge=[]\n",
    "    print('aaa')\n",
    "    for j in range(2):\n",
    "        file_path = filedialog.askopenfilename()\n",
    "        file_path_storge.append(file_path)\n",
    "    for i in range(2):\n",
    "        print(ppo)\n",
    "        file,dst=input_file(file_path_storge[i], int(i+1))                   # 使用到 input_file 函數\n",
    "        dim4resizeimg.append(dst)\n",
    "        inputfile.append(file)\n",
    "    return inputfile,dim4resizeimg"
   ]
  },
  {
   "cell_type": "markdown",
   "id": "fa32cb34",
   "metadata": {},
   "source": [
    "## 步驟2"
   ]
  },
  {
   "cell_type": "markdown",
   "id": "91efed81",
   "metadata": {},
   "source": [
    "輸入*要預測的圖片像素*與*檔案種類*(該函數一張圖片或影片使用一次)\n",
    "    \n",
    "    仔入步驟2模型(預測形狀)\n",
    "    \n",
    "    預測每張*圖片像素*的形狀\n",
    "    \n",
    "    若*檔案種類*不是圖片(是影片)則預測每一張圖片後，每一張最大機率的標籤最多的\n",
    "    \n",
    "    若*檔案種類*是圖片則取最大的機率的標籤\n",
    "    \n",
    "輸出*預測標籤*與*輸入圖片的預測為該類別的機率?*\n",
    "\n",
    "ps裡面使用到了 步驟2模型(預測形狀) "
   ]
  },
  {
   "cell_type": "code",
   "execution_count": 5,
   "id": "0be7c1ff",
   "metadata": {},
   "outputs": [],
   "source": [
    "def ring_or_stright(ds, inputfile):\n",
    "    \"\"\"\n",
    "    \"圖片的ndarry資料=>prediction[0]=0是直鏈，prediction[0]=1是環\"\n",
    "\n",
    "    ds是四維圖片，inputfile是圖或影片\n",
    "    dsd是各個類別機率\n",
    "    prediction[0]是預測出來結果\n",
    "    prediction[0]=0是直鏈，prediction[0]=1是環\n",
    "    值鏈編號:0，環編號:1，支鏈編號2\n",
    "    \"\"\"\n",
    "    model = tf.keras.models.load_model(u\"C:/D/New/molecule_avo_fig/branch/predict_ring_branch_straight/NN/model/1/want_my_model2.h5\")\n",
    "    # print(ds)\n",
    "    dsd1 = model.predict(ds)\n",
    "    # print(dsd.shape,'dsd.shape')  #(13,2)or(1, 2) dsd.shape\n",
    "    # print(dsd)   # dsd=[[9.99898791e-01 01215606e-04]] dsd=[[0.9965252  0.00347477]]\n",
    "    prediction = []\n",
    "    # print(len(dsd[0]),len(dsd[1]))\n",
    "    dsd=copy.deepcopy(dsd1)\n",
    "    if inputfile != 'image':\n",
    "        # print(len(dsd[:,0]),len(dsd[0,:]))\n",
    "        for k in range(len(dsd[:, 0])):\n",
    "            for h in range(len(dsd[0, :])):\n",
    "                # max(dst[k]))，那一張圖片中，10個編號中哪個機率最大，dst[k,h]某個圖片的某個編號機率\n",
    "                if (dsd[k, h] >= max(dsd[k])) and max(dsd[k]) >= 0.8: \n",
    "                    prediction.append([dsd[k, h], h])  # [最大機率，編號]\n",
    "        a = [i[1] for i in prediction]  # a13張圖片中13個最大機率的編號\n",
    "        prediction[0] = max(a, key=a.count)  # https://blog.csdn.net/DeniuHe/article/details/103092390  获取list中出现次数最多的元素\n",
    "    else:\n",
    "        prediction = np.argmax(dsd, axis=-1)\n",
    "    #print(prediction[0],dsd1)\n",
    "    return prediction[0], {'ring': dsd1[0][1], 'line': dsd1[0][0], 'branch': dsd1[0][2]}"
   ]
  },
  {
   "cell_type": "markdown",
   "id": "06a80e9b",
   "metadata": {},
   "source": [
    "## 步驟3 (預測碳數)"
   ]
  },
  {
   "cell_type": "markdown",
   "id": "fda4fd4f",
   "metadata": {},
   "source": [
    "#### 直/環/支"
   ]
  },
  {
   "cell_type": "code",
   "execution_count": 6,
   "id": "a16c3cf3",
   "metadata": {},
   "outputs": [],
   "source": [
    "def Cnumber(dst, inputfile, structure):\n",
    "    \"\"\"\n",
    "    \"環圖片的ndarry資料=>HOMO、LUMO，碳數以及特徵值、特徵向量\"\n",
    "\n",
    "    先預測輸入的四維資料\n",
    "    根據輸入含有多張截圖圖片或是一張圖片判斷prediction[0]\n",
    "    prediction[0]=0表示預測為五環\n",
    "    prediction[0]=1表示預測為六環\n",
    "    之後放入diffCHOOMOLUMO函數得出五環或是六環在眾多軌域中，HOMO、LUMO，以及特徵值、特徵向量\n",
    "    \"\"\"\n",
    "    # 步驟一前處理\n",
    "    # dst = cv2.resize(im, (128,128), interpolation=cv2.INTER_AREA)\n",
    "    # dst = copy.deepcopy(dst[np.newaxis, :])\n",
    "    # 步驟一\n",
    "    if structure==0:\n",
    "        model = tf.keras.models.load_model(u'C:/D/New/molecule_avo_fig/load_model/load_model_7.1_ring_predict_eig1/predict_straight_C_number.h5')\n",
    "        dst = model.predict(dst)\n",
    "        Probability={'2C': dst[0][0], '4C': dst[0][1], '6C': dst[0][2]}\n",
    "        def howmuchC(prediction):\n",
    "            howmuchCnumber=prediction+prediction+2\n",
    "            return howmuchCnumber\n",
    "    elif structure==1:\n",
    "        model = tf.keras.models.load_model(u'C:/D/New/molecule_avo_fig/load_model/load_model_7.1_ring_predict_eig1/predict_ring_C_number.h5')\n",
    "        dst = model.predict(dst)\n",
    "        Probability={'5C': dst[0][0], '6C': dst[0][1]}\n",
    "        def howmuchC(prediction):\n",
    "            howmuchCnumber=prediction+5\n",
    "            return howmuchCnumber\n",
    "    else:\n",
    "        model = tf.keras.models.load_model(u'C:/D/New/molecule_avo_fig/branch/C_number_prediction/NN/模型/!7/want_my_model2.h5')\n",
    "        dst = model.predict(dst)\n",
    "        Probability={'6C': dst[0][0], '8C': dst[0][1], '10C': dst[0][2]}\n",
    "        def howmuchC(prediction):\n",
    "            howmuchCnumber=prediction+prediction+6\n",
    "            return howmuchCnumber\n",
    "    #print(dst.shape, 'dst.shape')  # (13, 10) dst.shape，13張圖片10個類別\n",
    "    prediction = []\n",
    "    # print(len(dst[0]),len(dst[1]))\n",
    "    if inputfile != 'image':\n",
    "        #print(len(dst[:, 0]), len(dst[0, :]))\n",
    "        for k in range(len(dst[:, 0])):\n",
    "            for h in range(len(dst[0, :])):\n",
    "                if (dst[k, h] >= max(dst[k])) and max(\n",
    "                        dst[k]) >= 0.8:  # max(dst[k]))，那一張圖片中，10個編號中哪個機率最大，dst[k,h]某個圖片的某個編號機率\n",
    "                    prediction.append([dst[k, h], h])  # [最大機率，編號]\n",
    "        a = [i[1] for i in prediction]  # a13張圖片中13個最大機率的編號\n",
    "        # https://blog.csdn.net/DeniuHe/article/details/103092390   获取list中出现次数最多的元素\n",
    "        prediction[0] = max(a,key=a.count)  \n",
    "    else:\n",
    "        prediction = np.argmax(dst, axis=-1)\n",
    "    # prediction = model.predict_classes(dst)\n",
    "    #print(prediction[0])\n",
    "    howmuchCnumber=howmuchC(prediction[0])\n",
    "    return howmuchCnumber,Probability"
   ]
  },
  {
   "cell_type": "markdown",
   "id": "22d7b447",
   "metadata": {},
   "source": [
    "## 步驟4 (Huckel)"
   ]
  },
  {
   "cell_type": "markdown",
   "id": "3262f3e5",
   "metadata": {},
   "source": [
    "單一分子"
   ]
  },
  {
   "cell_type": "code",
   "execution_count": 7,
   "id": "d55744de",
   "metadata": {},
   "outputs": [],
   "source": [
    "def huckel(moleculeshape,moleculeCnumber):\n",
    "    print('碳數與形狀產生huckel矩陣與特徵值特徵向量')\n",
    "    H=np.zeros([moleculeCnumber,moleculeCnumber]).astype('int64')\n",
    "    bb=int((moleculeCnumber-4)/2) if moleculeshape==2 else None   # 長鏈中連接支鏈的數量\n",
    "    b=(moleculeCnumber-bb) if moleculeshape==2  else copy.deepcopy(moleculeCnumber) # 4是支鏈旁的兩個雙鍵，不會有支鏈連接，Lbb事支鏈長的部份的碳數\n",
    "    connect_position=[]\n",
    "    for j in range(b-1):\n",
    "        p1 = j+1\n",
    "        p2 = j \n",
    "        #print(p1, p2)\n",
    "        H[p1, p2] = 1\n",
    "        H[p2, p1] = 1\n",
    "        connect_position.append([p2, p1])\n",
    "    if moleculeshape==1:\n",
    "        H[p1, 0] = 1\n",
    "        H[0, p1] = 1\n",
    "        connect_position.append([p1, 0])\n",
    "    if moleculeshape==2:\n",
    "        for j in range(bb):\n",
    "            p1 = b+j\n",
    "            p2 = j+2\n",
    "            #print(p1, p2)\n",
    "            H[p1, p2] = 1\n",
    "            H[p2, p1] = 1\n",
    "            connect_position.append([p2, p1])\n",
    "    print(connect_position)\n",
    "    print(H)\n",
    "    eigvals, eigvecs = la.eig(H)\n",
    "    eigvals = eigvals.real\n",
    "    eigvals=np.around(eigvals,5)\n",
    "    eigvals_list=eigvals.tolist()\n",
    "    #klk = bondorder(b,eigvals_list,eigvecs,ring_or_straight)\n",
    "    print(eigvals,'eigvals')\n",
    "    print(eigvecs,'eigvecs')\n",
    "    return eigvals, eigvecs, connect_position"
   ]
  },
  {
   "cell_type": "markdown",
   "id": "89467b01",
   "metadata": {},
   "source": [
    "## 步驟5 (預測HOMOLUMO)"
   ]
  },
  {
   "cell_type": "markdown",
   "id": "54c29941",
   "metadata": {},
   "source": [
    "### 前處理\n",
    "\n",
    "輸入*eigvecs*也就是*特徵向量*    單一分子\n",
    "\n",
    "    第一個for是把每個特徵向量分割，並增加維度，存入vec\n",
    "    \n",
    "    第2個for是照順序取vec，再從vec隨機挑兩個，三個連接在一起並存入vvecc\n",
    "    \n",
    "輸出*vvecc*三個連接在一起的波函數係數"
   ]
  },
  {
   "cell_type": "code",
   "execution_count": 8,
   "id": "3d0a02ff",
   "metadata": {},
   "outputs": [],
   "source": [
    "def Pretreatment5(eigvecs):\n",
    "    # 加入每個軌域到vec\n",
    "    vec=[]\n",
    "    for e in range(len(eigvecs[0])):\n",
    "        b1 = copy.deepcopy(eigvecs[:, e].reshape(len(eigvecs[0]), 1))\n",
    "        b1 = b1[:,:, np.newaxis]\n",
    "        b1 = b1[np.newaxis, :]\n",
    "        if len(vec) == 0:\n",
    "            vec = copy.deepcopy(b1)\n",
    "        else:\n",
    "            vec = np.concatenate((vec, b1), axis=0)\n",
    "    # 每個軌域旁都有軌域\n",
    "    vvecc=[]\n",
    "    for i in range(len(vec)):  # img=(-1,n,3,1)鬼域\n",
    "        true_img = copy.deepcopy(vec[i])\n",
    "        r1 = random.randint(0, (len(vec) - 1))\n",
    "        r2 = random.randint(0, (len(vec) - 1))\n",
    "        concat_img = copy.deepcopy(np.concatenate((true_img, vec[r1]), axis=1))\n",
    "        concat_img = np.concatenate((vec[r2], concat_img), axis=1)\n",
    "        concat_img = copy.deepcopy(concat_img[np.newaxis, :])\n",
    "        if len(vvecc) == 0:\n",
    "            vvecc = copy.deepcopy(concat_img)\n",
    "        else:\n",
    "            vvecc = np.concatenate((vvecc, concat_img), axis=0)\n",
    "    return vvecc\n",
    "    "
   ]
  },
  {
   "cell_type": "markdown",
   "id": "acfa0148",
   "metadata": {},
   "source": [
    "### 步驟5模型預測\n",
    "\n",
    "輸入:*形狀、碳數、特徵向量*\n",
    "\n",
    "    使用Pretreatment5函數，輸入特徵向量產生三個連接在一起的波函數係數\n",
    "    \n",
    "    各種分子模型，使用到*形狀、碳數*\n",
    "    \n",
    "    第一個for是算出的特徵向量有可能正負號相反，所以乘-1再預測一次較保險\n",
    "    \n",
    "    第2個for是讓所有*特徵向量*進入模型被預測，若預測標籤是0就存入*HOMO*，若預測標籤是1就存入*LUMO*\n",
    "\n",
    "輸出: *HOMO*，*LUMO*"
   ]
  },
  {
   "cell_type": "code",
   "execution_count": 9,
   "id": "998ac39f",
   "metadata": {},
   "outputs": [],
   "source": [
    "def HOMOLUMO(shape,Carbonnumber,eigvecs):  \n",
    "    veccc=Pretreatment5(eigvecs)\n",
    "    HOMO, LUMO = copy.deepcopy([]), copy.deepcopy([])\n",
    "    # 決定模型\n",
    "    if shape==0:\n",
    "        if Carbonnumber==2:\n",
    "            model = tf.keras.models.load_model(u'C:/D/New/molecule_avo_fig/load_model/load_model_7.1_ring_predict_eig1/2.h5')\n",
    "        elif Carbonnumber==4:\n",
    "            model = tf.keras.models.load_model(u'C:/D/New/molecule_avo_fig/load_model/load_model_7.1_ring_predict_eig1/4.h5')\n",
    "        elif Carbonnumber==6:\n",
    "            model = tf.keras.models.load_model(u'C:/D/New/molecule_avo_fig/load_model/load_model_7.1_ring_predict_eig1/6.h5')\n",
    "        elif Carbonnumber==8:\n",
    "            model = tf.keras.models.load_model(u'C:/D/New/molecule_avo_fig/load_model/load_model_7.1_ring_predict_eig1/8.h5')\n",
    "        elif Carbonnumber==10:\n",
    "            model = tf.keras.models.load_model(u'C:/D/New/molecule_avo_fig/load_model/load_model_7.1_ring_predict_eig1/10.h5')\n",
    "        elif Carbonnumber==12:\n",
    "            model = tf.keras.models.load_model(u'C:/D/New/molecule_avo_fig/load_model/load_model_7.1_ring_predict_eig1/12.h5')\n",
    "        elif Carbonnumber==14:\n",
    "            model = tf.keras.models.load_model(u'C:/D/New/molecule_avo_fig/load_model/load_model_7.1_ring_predict_eig1/14.h5')\n",
    "        elif Carbonnumber==16:\n",
    "            model = tf.keras.models.load_model(u'C:/D/New/molecule_avo_fig/load_model/load_model_7.1_ring_predict_eig1/16.h5')\n",
    "        elif Carbonnumber==18:\n",
    "            model = tf.keras.models.load_model(u'C:/D/New/molecule_avo_fig/load_model/load_model_7.1_ring_predict_eig1/18.h5')\n",
    "        elif Carbonnumber==20:\n",
    "            model = tf.keras.models.load_model(u'C:/D/gogo/reaction/eigvals, eigvecs/20C，2X3，3，隨機，300，2/20.h5')\n",
    "        else:\n",
    "            None\n",
    "    elif shape==1:\n",
    "        if Carbonnumber==5:\n",
    "            model = tf.keras.models.load_model(u'C:/D/New/molecule_avo_fig/load_model/load_model_7.1_ring_predict_eig1/5Cring.h5')\n",
    "        else:\n",
    "            model = tf.keras.models.load_model(u'C:/D/New/molecule_avo_fig/load_model/load_model_7.1_ring_predict_eig1/6Cring.h5')\n",
    "    else:\n",
    "        if Carbonnumber==6:\n",
    "            model = tf.keras.models.load_model(u'C:/D/New/molecule_avo_fig/branch/C_number_prediction/eigvals, eigvecs,branch/6C，6X3X1，隨機，200/6.h5')\n",
    "        elif Carbonnumber==8:\n",
    "            model = tf.keras.models.load_model(u'C:/D/New/molecule_avo_fig/branch/C_number_prediction/eigvals, eigvecs,branch/8C，8X3X1，隨機，200/8.h5')\n",
    "        else:\n",
    "            model = tf.keras.models.load_model(u'C:/D/New/molecule_avo_fig/branch/C_number_prediction/eigvals, eigvecs,branch/10C，10X3X1，隨機，200/10.h5')\n",
    "    # 使用模型\n",
    "    for j in range(1):\n",
    "        if j==1:\n",
    "            veccc=-1*veccc                                       # 算出的特徵向量有可能正負號相反，所以成-1在預測一次較保險\n",
    "        for i in range(len(veccc)):\n",
    "            ss = copy.deepcopy(veccc[i])\n",
    "            ss2 = copy.deepcopy(ss[np.newaxis, :])\n",
    "            #prediction = model.predict_classes(ss2)\n",
    "            #print(ss[:, 1, :],'ss[:, 1, :]')\n",
    "            prediction = copy.deepcopy(model.predict(ss2))\n",
    "            prediction=np.argmax(prediction,axis=1)\n",
    "            #print(prediction[0])\n",
    "            if prediction[0] == 0:\n",
    "                HOM = copy.deepcopy(ss[:, 1, :])                 # ss[:,1,:]shape是4*1或6*1等\n",
    "                HOMO.append(HOM)\n",
    "                print(HOM, '0')\n",
    "            if prediction[0] == 1:\n",
    "                LUM = copy.deepcopy(ss[:, 1, :])\n",
    "                LUMO.append(LUM)\n",
    "    return HOMO, LUMO"
   ]
  },
  {
   "cell_type": "code",
   "execution_count": 10,
   "id": "0b98d684",
   "metadata": {
    "scrolled": true
   },
   "outputs": [
    {
     "data": {
      "text/plain": [
       "\"\\n# test\\nshape=[0,1,2]\\nLineC=[2,4,6,8,10,12,14,16,18,20]\\nringC=[5,6]\\nbranchC=[6,8,10]\\nfor i in LineC:\\n    a,b,c=huckel(0,i)\\n    d,e=HOMOLUMO(0,i,b)\\n    print(np.shape(d),np.shape(e),'0',i)\\nfor i in ringC:\\n    a,b,c=huckel(1,i)\\n    d,e=HOMOLUMO(1,i,b)\\n    print(np.shape(d),np.shape(e),'1',i)\\nfor i in branchC:\\n    a,b,c=huckel(2,i)\\n    d,e=HOMOLUMO(2,i,b)\\n    print(np.shape(d),np.shape(e),'2',i)\\n\""
      ]
     },
     "execution_count": 10,
     "metadata": {},
     "output_type": "execute_result"
    }
   ],
   "source": [
    "\"\"\"\n",
    "# test\n",
    "shape=[0,1,2]\n",
    "LineC=[2,4,6,8,10,12,14,16,18,20]\n",
    "ringC=[5,6]\n",
    "branchC=[6,8,10]\n",
    "for i in LineC:\n",
    "    a,b,c=huckel(0,i)\n",
    "    d,e=HOMOLUMO(0,i,b)\n",
    "    print(np.shape(d),np.shape(e),'0',i)\n",
    "for i in ringC:\n",
    "    a,b,c=huckel(1,i)\n",
    "    d,e=HOMOLUMO(1,i,b)\n",
    "    print(np.shape(d),np.shape(e),'1',i)\n",
    "for i in branchC:\n",
    "    a,b,c=huckel(2,i)\n",
    "    d,e=HOMOLUMO(2,i,b)\n",
    "    print(np.shape(d),np.shape(e),'2',i)\n",
    "\"\"\""
   ]
  },
  {
   "cell_type": "markdown",
   "id": "e1bfe128",
   "metadata": {},
   "source": [
    "## 步驟6 (預測反應產物)"
   ]
  },
  {
   "cell_type": "markdown",
   "id": "cc813de0",
   "metadata": {},
   "source": [
    "###前處理\n",
    "\n"
   ]
  },
  {
   "cell_type": "markdown",
   "id": "3a058640",
   "metadata": {},
   "source": [
    "算階層"
   ]
  },
  {
   "cell_type": "code",
   "execution_count": 11,
   "id": "436d5bd7",
   "metadata": {},
   "outputs": [],
   "source": [
    "def x(num):  # https://www.runoob.com/python3/python3-factorial.html\n",
    "    #print(num,'輸入')\n",
    "    factorial = 1\n",
    "    for i in range(1,num + 1):\n",
    "        factorial = factorial*i\n",
    "    #print(factorial,'輸出')\n",
    "    return factorial"
   ]
  },
  {
   "cell_type": "markdown",
   "id": "bb06ef98",
   "metadata": {},
   "source": [
    "輸入長度輸出所有可能的兩個或多個數字，不重複，兩個或多個數字顛倒也不重複\n",
    "\n",
    "輸入:*Cnumber*,*rnumber*，也就是碳數與要件節的數量(要預測會不會反應的位置數量)(實際上是2)\n",
    "    \n",
    "    算碳數的階層，知道從鬼域中取2，有多少數量\n",
    "    \n",
    "    while是若真的取道這數量就離開\n",
    "    \n",
    "        for 是隨機取2個炭的位置，加入rr\n",
    "        \n",
    "        若排列順序後不在r裡，若rr裡的數字不重複，就加入*r*\n",
    "        \n",
    "輸出: *r*，也就是所有可能鍵結的位置"
   ]
  },
  {
   "cell_type": "code",
   "execution_count": 12,
   "id": "99782f98",
   "metadata": {},
   "outputs": [],
   "source": [
    "def randomnumber(Cnumber,rnumber):\n",
    "    pn =x(Cnumber)/((x(Cnumber-rnumber))*x(rnumber))\n",
    "    #print(pn,x(Cnumber))\n",
    "    ppnn=0\n",
    "    r=[]\n",
    "    while ppnn != pn:\n",
    "        # 隨機選位置\n",
    "        rr=copy.deepcopy([])\n",
    "        for i in range(rnumber):\n",
    "            rr.append(random.randint(0,Cnumber-1))\n",
    "       \n",
    "        if (sorted(rr) not in r) and (len(set(rr))==rnumber):\n",
    "            r.append(sorted(rr))\n",
    "            ppnn+=1\n",
    "    #print(r)\n",
    "    return r"
   ]
  },
  {
   "cell_type": "markdown",
   "id": "61f0a6bc",
   "metadata": {},
   "source": [
    "輸入鬼域輸出隨機位置的鬼域"
   ]
  },
  {
   "cell_type": "code",
   "execution_count": 13,
   "id": "4fb30c68",
   "metadata": {},
   "outputs": [],
   "source": [
    "def sigmaMO(omo):\n",
    "    rgbHOMO=[]\n",
    "    for j in range(len(omo)):        # 環可能有兩個HOMO/LUMO\n",
    "        mo=copy.deepcopy(omo[j])\n",
    "        randomnlits = copy.deepcopy(randomnumber(len(mo),2))\n",
    "        print(len(randomnlits))\n",
    "        #print(randomnlits)\n",
    "            # 交換數值\n",
    "        for i in range(len(randomnlits)):  # len(randomnlits)是從n個C取2的數量，隨機選擇位置的數量，randomnlits是隨機選的位置[[1,2],[3,4]...]\n",
    "            # 建立通道\n",
    "            g=copy.deepcopy(np.zeros(len(mo)).reshape(len(mo),1))\n",
    "            bl = copy.deepcopy(np.zeros(len(mo)).reshape(len(mo),1))\n",
    "            re=copy.deepcopy(mo.reshape(len(mo),1))\n",
    "            #print(r)              # randomnlitsplusmines是紀錄位置及該位置的波函數正負號\n",
    "            g[randomnlits[i][0]] = copy.deepcopy(re[randomnlits[i][0]])\n",
    "            g[randomnlits[i][1]] = copy.deepcopy(re[randomnlits[i][1]])\n",
    "            re[randomnlits[i][0]] = copy.deepcopy(0)\n",
    "            re[randomnlits[i][1]] = copy.deepcopy(0)\n",
    "            g=copy.deepcopy(g[:,:,np.newaxis])\n",
    "            bl=copy.deepcopy(bl[:,:,np.newaxis])\n",
    "            re=copy.deepcopy(re[:,:,np.newaxis])\n",
    "            gg = []\n",
    "            # n變成20\n",
    "            for i in [re,g,bl]:\n",
    "                #print(c,'c')\n",
    "                while len(i)<20:\n",
    "                    i = np.insert(i, 0, np.zeros(1), 0)\n",
    "                    if len(i)<20:\n",
    "                        i = np.insert(i, np.size(i,0), np.zeros(1), 0)\n",
    "                    else:\n",
    "                        break\n",
    "                gg.append(i)\n",
    "            re = copy.deepcopy(gg[0])\n",
    "            g = copy.deepcopy(gg[1])\n",
    "            bl = copy.deepcopy(gg[2])\n",
    "            reg = np.append(re, g, axis=2)  #　（：：在這裡合併）\n",
    "            regbl = np.append(reg, bl, axis=2)\n",
    "            regbl = copy.deepcopy(regbl[np.newaxis, :])\n",
    "            if len(rgbHOMO)==0:\n",
    "                rgbHOMO = copy.deepcopy(regbl)\n",
    "            else:\n",
    "                rgbHOMO = copy.deepcopy(np.concatenate((rgbHOMO, regbl), axis=0))\n",
    "    print(np.shape(rgbHOMO))\n",
    "    return rgbHOMO"
   ]
  },
  {
   "cell_type": "markdown",
   "id": "79b20018",
   "metadata": {},
   "source": [
    "4+2的HOMOLUMO"
   ]
  },
  {
   "cell_type": "code",
   "execution_count": 14,
   "id": "d547e6b6",
   "metadata": {},
   "outputs": [],
   "source": [
    "def four_two_homo_lumo(rgbH,rgbL):\n",
    "    print('1是會反映/0是不會反應')\n",
    "    data0=[]\n",
    "    for i in range(len(rgbH)):  # 判斷label\n",
    "        for j in range(len(rgbL)):\n",
    "            for k in range(2):\n",
    "                if k==0:       # 若LUMO沒反轉\n",
    "                    #print(i,j)\n",
    "                    #print(rgbL[j])\n",
    "                    reaction_rgb = copy.deepcopy(np.append(rgbH[i], rgbL[j], axis=1))  # HOMOLUMO合併\n",
    "                    data0.append(reaction_rgb)\n",
    "                else:         # 若LUMO反轉\n",
    "                    #print(rgbL[j][::-1])\n",
    "                    if np.allclose(rgbL[j][::-1],rgbL[j])==False:\n",
    "                        reaction_rgb = copy.deepcopy(np.append(rgbH[i], rgbL[j][::-1], axis=1))  # HOMOLUMO合併\n",
    "                        data0.append(reaction_rgb)\n",
    "    #print(data0[0])\n",
    "    return data0"
   ]
  },
  {
   "cell_type": "markdown",
   "id": "b2dd330b",
   "metadata": {},
   "source": [
    "4+4/2+2的LUMOLUMO"
   ]
  },
  {
   "cell_type": "code",
   "execution_count": 15,
   "id": "ca0305d3",
   "metadata": {},
   "outputs": [],
   "source": [
    "def two_two_four_four_lumo_lumo(rgbL1,rgbL2):\n",
    "    print('4+4/2+2的LUMOLUMO，1是會反映/0是不會反應')\n",
    "    data0=[]\n",
    "    print(len(rgbL1),'len(rgbL1)')\n",
    "    print(len(rgbL2),'len(rgbL2)')\n",
    "    for i in range(len(rgbL1)):  # 判斷label\n",
    "        for j in range(len(rgbL2)):\n",
    "            for k in range(2):\n",
    "                if k==0:       # 若LUMO沒反轉\n",
    "                    reaction_rgb = copy.deepcopy(np.append(rgbL1[i], rgbL2[j], axis=1))  # LUMOLUMO合併\n",
    "                    data0.append(reaction_rgb)\n",
    "                else:         # 若LUMO反轉\n",
    "                    if np.allclose(rgbL2[j][::-1],rgbL2[j])==False:\n",
    "                        reaction_rgb = copy.deepcopy(np.append(rgbL1[i], rgbL2[j][::-1], axis=1))  # LUMOLUMO合併\n",
    "                        data0.append(reaction_rgb)\n",
    "\n",
    "    return data0"
   ]
  },
  {
   "cell_type": "markdown",
   "id": "d46c115f",
   "metadata": {},
   "source": [
    "全"
   ]
  },
  {
   "cell_type": "code",
   "execution_count": 16,
   "id": "d432a073",
   "metadata": {},
   "outputs": [],
   "source": [
    "def all(HOMO_1,LUMO_1,HOMO_2,LUMO_2):\n",
    "    rgbH_1=sigmaMO(HOMO_1)\n",
    "    rgbL_1=sigmaMO(LUMO_1)\n",
    "    rgbH_2=sigmaMO(HOMO_2)\n",
    "    rgbL_2=sigmaMO(LUMO_2)\n",
    "    #print(np.shape(rgbH_1),'np.shape(rgbH_1)')\n",
    "    #print(rgbH_1[0],'rgbH_1[0]')\n",
    "    #print(np.shape(rgbL_2),'np.shape(rgbL_2)')\n",
    "    #print(rgbL_2[0],'rgbL_2[0]')\n",
    "    data42,data2244=[],[]\n",
    "    combine_H1L2=copy.deepcopy(four_two_homo_lumo(rgbH_1,rgbL_2))       # 兩個資料量一樣，因為包含會反應的與不會反應的\n",
    "    combine_H2L1=copy.deepcopy(four_two_homo_lumo(rgbH_2,rgbL_1))\n",
    "    combine_L2L1=copy.deepcopy(two_two_four_four_lumo_lumo(rgbL_2,rgbL_1))\n",
    "    combine_L1L2=copy.deepcopy(two_two_four_four_lumo_lumo(rgbL_1,rgbL_2))\n",
    "    print(np.shape(combine_H1L2),'np.shape(combine_H1L2)')\n",
    "    print(np.shape(combine_H2L1),'np.shape(combine_H2L1)')\n",
    "    print(np.shape(combine_L2L1),'np.shape(combine_L2L1)')\n",
    "    print(np.shape(combine_L1L2),'np.shape(combine_L1L2)')\n",
    "    data42+=combine_H1L2\n",
    "    data42+=combine_H2L1\n",
    "    data2244+=combine_L2L1\n",
    "    data2244+=combine_L1L2\n",
    "    print(np.shape(data42),np.shape(data2244),'np.shape(data42),np.shape(data2244)')\n",
    "    return data42, data2244"
   ]
  },
  {
   "cell_type": "markdown",
   "id": "6e5246ae",
   "metadata": {},
   "source": [
    "### 步驟6模型預測\n",
    "\n",
    "從編編到有數字的地方，可以判別矩陣"
   ]
  },
  {
   "cell_type": "code",
   "execution_count": 17,
   "id": "af7c832a",
   "metadata": {},
   "outputs": [
    {
     "data": {
      "text/plain": [
       "\"\\n            for j in range(20):\\n                if getdata42[i][(19-j)]!=0:\\n                    boundary.append((19-j))\\n            \\n            \\n                        \\n        canreactiondata42.append(getdata42[i])\\n    model = tf.keras.models.load_model(u'C:/D/New/molecule_avo_fig/branch/can_reaction_ring_branch_straight/4422平均在trainvalidtest_加光_300000_0.6_X3_1429628_10152/!5.h5')\\n    for i in range(len(getdata4422)):\\n        prediction = copy.deepcopy(model.predict(getdata4422[i]))\\n        prediction=np.argmax(prediction,axis=1)\\n        canreactiondata4422.append(getdata4422[i])\\n\""
      ]
     },
     "execution_count": 17,
     "metadata": {},
     "output_type": "execute_result"
    }
   ],
   "source": [
    "def step6(HOMO_1,LUMO_1,HOMO_2,LUMO_2):\n",
    "    getdata42, getdata2244=all(HOMO_1,LUMO_1,HOMO_2,LUMO_2)\n",
    "    canreactiondata42, canreactiondata2244=[],[]\n",
    "    print(getdata42[0],'getdata42[0]')\n",
    "    print(np.shape(getdata42[0][np.newaxis, :]),'np.shape(getdata42[0])')\n",
    "    print(type(getdata42[0]),'type(getdata42[0])')\n",
    "    model = tf.keras.models.load_model(u'C:/D/New/molecule_avo_fig/branch/can_reaction_ring_branch_straight/42平均在trainvalidtest_加熱_300000_0.6_X3_1429628_10152/哦型/want2.h5')\n",
    "    #prediction = model.predict(getdata42)\n",
    "    #prediction=np.argmax(prediction,axis=1)\n",
    "    #print(prediction)\n",
    "    for i in range(len(getdata42)):\n",
    "        prediction = copy.deepcopy(model.predict(getdata42[i][np.newaxis, :]))\n",
    "        prediction=np.argmax(prediction,axis=1)\n",
    "        if prediction[0]==1:\n",
    "            #print(np.shape(getdata42[i]))\n",
    "            boundary=[]\n",
    "            for j in range(20):\n",
    "                if getdata42[i][:,0,0][j]!=0:\n",
    "                    print(np.shape(getdata42[i][:,0,0][j]),'np.shape(getdata42[i][:,0,0][j])')\n",
    "                    boundary.append(j)\n",
    "\"\"\"\n",
    "            for j in range(20):\n",
    "                if getdata42[i][(19-j)]!=0:\n",
    "                    boundary.append((19-j))\n",
    "            \n",
    "            \n",
    "                        \n",
    "        canreactiondata42.append(getdata42[i])\n",
    "    model = tf.keras.models.load_model(u'C:/D/New/molecule_avo_fig/branch/can_reaction_ring_branch_straight/4422平均在trainvalidtest_加光_300000_0.6_X3_1429628_10152/!5.h5')\n",
    "    for i in range(len(getdata4422)):\n",
    "        prediction = copy.deepcopy(model.predict(getdata4422[i]))\n",
    "        prediction=np.argmax(prediction,axis=1)\n",
    "        canreactiondata4422.append(getdata4422[i])\n",
    "\"\"\""
   ]
  },
  {
   "cell_type": "markdown",
   "id": "3eb1d8c4",
   "metadata": {},
   "source": [
    "最後要執行所有函數"
   ]
  },
  {
   "cell_type": "code",
   "execution_count": 18,
   "id": "e219e6f5",
   "metadata": {},
   "outputs": [],
   "source": [
    "def clicked(arg):\n",
    "    with out:\n",
    "        clear_output()\n",
    "        inputfile,dim4resizeimg=frf('ppo')\n",
    "        \n",
    "        # 步驟2\n",
    "        moleculeshape1,a = ring_or_stright(dim4resizeimg[0], inputfile[0])  # (第一個檔案(圖或影)) ringorstright1=0是直鏈，ringorstright1=1是環\n",
    "        moleculeshape2,b = ring_or_stright(dim4resizeimg[1], inputfile[1])  # (第二個檔案(圖或影)) ringorstright2=0是直鏈，ringorstright2=1是環\n",
    "        print(moleculeshape1,'moleculeshape1')\n",
    "        print(a,'a')\n",
    "        print(moleculeshape2,'moleculeshape2')\n",
    "        print(b,'b')\n",
    "        \n",
    "        # 步驟3\n",
    "        moleculeCnumber1,a=Cnumber(dim4resizeimg[0], inputfile[0],moleculeshape1)   # 輸入 圖影片1像素 檔案1種類 步驟2結果\n",
    "        moleculeCnumber2,b=Cnumber(dim4resizeimg[1], inputfile[1],moleculeshape2)   # 輸入 圖影片2像素 檔案2種類 步驟2結果\n",
    "        print(moleculeCnumber1,'moleculeCnumber1')\n",
    "        print(a,'a')\n",
    "        print(moleculeCnumber2,'moleculeCnumber2')\n",
    "        print(b,'b')\n",
    "        \n",
    "        # 步驟4\n",
    "        eigvals1, eigvecs1, connect_position1=huckel(moleculeshape1,moleculeCnumber1)\n",
    "        eigvals2, eigvecs2, connect_position2=huckel(moleculeshape2,moleculeCnumber2)\n",
    "        \n",
    "        # 步驟5\n",
    "        HOMO1,LUMO1=HOMOLUMO(moleculeshape1,moleculeCnumber1,eigvecs1)\n",
    "        HOMO2,LUMO2=HOMOLUMO(moleculeshape2,moleculeCnumber2,eigvecs2)\n",
    "        print(HOMO1,'HOMO1')\n",
    "        print(HOMO2,'HOMO2')\n",
    "        print(LUMO1,'LUMO1')\n",
    "        print(LUMO2,'LUMO2')\n",
    "        \n",
    "        # 步驟6\n",
    "        step6(HOMO1,LUMO1,HOMO2,LUMO2)\n",
    "        #data42, data2244=all(HOMO1,LUMO1,HOMO2,LUMO2)\n",
    "        #print(data42[0],'data42[0]')\n",
    "        #print(data2244[0],'data2244[0]')\n",
    "        \n",
    "        "
   ]
  },
  {
   "cell_type": "markdown",
   "id": "e4d65e08",
   "metadata": {},
   "source": [
    "最後buttom所需"
   ]
  },
  {
   "cell_type": "code",
   "execution_count": 19,
   "id": "4bd67c59",
   "metadata": {},
   "outputs": [
    {
     "data": {
      "application/vnd.jupyter.widget-view+json": {
       "model_id": "b38cdff12d074543afd6247bf400b5a4",
       "version_major": 2,
       "version_minor": 0
      },
      "text/plain": [
       "VBox(children=(Button(description='Test Button', style=ButtonStyle()), Output()))"
      ]
     },
     "metadata": {},
     "output_type": "display_data"
    }
   ],
   "source": [
    "button_download = widgets.Button(description = 'Test Button')   \n",
    "button_download.on_click(clicked)\n",
    "page = widgets.VBox([button_download,out])\n",
    "display(page)#button_download"
   ]
  },
  {
   "cell_type": "code",
   "execution_count": null,
   "id": "fc6fd909",
   "metadata": {},
   "outputs": [],
   "source": []
  }
 ],
 "metadata": {
  "kernelspec": {
   "display_name": "Python (my-rdkit-env)",
   "language": "python",
   "name": "myenv"
  },
  "language_info": {
   "codemirror_mode": {
    "name": "ipython",
    "version": 3
   },
   "file_extension": ".py",
   "mimetype": "text/x-python",
   "name": "python",
   "nbconvert_exporter": "python",
   "pygments_lexer": "ipython3",
   "version": "3.9.5"
  }
 },
 "nbformat": 4,
 "nbformat_minor": 5
}
