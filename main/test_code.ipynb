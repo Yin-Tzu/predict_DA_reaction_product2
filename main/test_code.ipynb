{
 "cells": [
  {
   "cell_type": "markdown",
   "id": "a103ab85",
   "metadata": {},
   "source": [
    "### import"
   ]
  },
  {
   "cell_type": "code",
   "execution_count": 3,
   "id": "d27ecfc0",
   "metadata": {},
   "outputs": [],
   "source": [
    "import cv2\n",
    "#from sklearn.preprocessing import MinMaxScaler\n",
    "import numpy as np\n",
    "#import joblib\n",
    "import tensorflow as tf\n",
    "#import scipy.linalg as la\n",
    "import random\n",
    "#from google.colab.patches import cv2_imshow\n",
    "import copy\n",
    "import time\n",
    "from rdkit.Chem import AllChem, Draw\n",
    "from rdkit import Chem\n",
    "from PIL import Image\n",
    "import math\n",
    "# from rdkit.Chem.Draw import IPythonConsole\n",
    "from rdkit.Chem.Draw import MolDrawing, DrawingOptions\n",
    "import py3Dmol\n",
    "# from IPython.display import display\n",
    "import matplotlib.pyplot as plt  # plt 用於顯示圖片\n",
    "import matplotlib.image as mpimg  # mpimg 用於讀取圖片\n",
    "import os\n",
    "#import pathlib\n",
    "#import gradio as gr\n",
    "import ipywidgets as widgets\n",
    "import tkinter as tk\n",
    "from tkinter import filedialog\n",
    "import filetype\n",
    "from IPython.display import display, clear_output\n",
    "from ipywidgets import IntSlider, Output"
   ]
  },
  {
   "cell_type": "markdown",
   "id": "ced2a01c",
   "metadata": {},
   "source": [
    "#### test\n",
    "\n",
    "讓buttom不消失\n",
    "\n",
    "https://github.com/jupyter-widgets/ipywidgets/issues/1744"
   ]
  },
  {
   "cell_type": "code",
   "execution_count": 32,
   "id": "d89a95bd",
   "metadata": {
    "scrolled": false
   },
   "outputs": [
    {
     "data": {
      "application/vnd.jupyter.widget-view+json": {
       "model_id": "f3d4cca9227e432d84f0c829173f6bad",
       "version_major": 2,
       "version_minor": 0
      },
      "text/plain": [
       "VBox(children=(Button(description='Test Button', style=ButtonStyle()), Output()))"
      ]
     },
     "metadata": {},
     "output_type": "display_data"
    }
   ],
   "source": [
    "out = Output()\n",
    "#display(out)\n",
    "dim4resizeimg=[]\n",
    "inputfile = []\n",
    "\n",
    "\n",
    "def input_file(file_path, input_number):\n",
    "    inputfile = []\n",
    "    #print(inputfile)\n",
    "    fileURL = (file_path)\n",
    "    kind = filetype.guess(fileURL) #抽出File類型\n",
    "    inputfile.append(str(kind.mime).split('/')[0])\n",
    "    if str(kind.mime).split('/')[0]=='image':\n",
    "         # 顯示圖片\n",
    "        img = mpimg.imread(file_path)  # 讀取和程式碼處於同一目錄下的 i\n",
    "        # 此時 img 是一個 np.array 了，可以對它進行任意處理\n",
    "        plt.imshow(img)  # 顯示圖片\n",
    "        plt.axis('off')  # 不顯示座標軸\n",
    "        plt.show()\n",
    "    #return inputfile\n",
    "def frf(ppo):\n",
    "    root = tk.Tk()\n",
    "    root.withdraw()\n",
    "    file_path_storge=[]\n",
    "    print('aaa')\n",
    "    for j in range(2):\n",
    "        file_path = filedialog.askopenfilename()\n",
    "        file_path_storge.append(file_path)\n",
    "    for i in range(2):\n",
    "        print(ppo)\n",
    "        input_file(file_path_storge[i], int(i+1))\n",
    "#tktk('aaa')\n",
    "#frf('ppo')\n",
    "def clicked(arg):\n",
    "    with out:\n",
    "        clear_output()\n",
    "        #inp=num(345)\n",
    "        #tktk('aaa')\n",
    "        frf('ppo')\n",
    "\n",
    "button_download = widgets.Button(description = 'Test Button')   \n",
    "#widgets.Intsliter()\n",
    "button_download.on_click(clicked)\n",
    "page = widgets.VBox([button_download,out])\n",
    "display(page)#button_download"
   ]
  },
  {
   "cell_type": "code",
   "execution_count": null,
   "id": "c531265c",
   "metadata": {},
   "outputs": [],
   "source": [
    "import pandas as pd\n",
    "model = tf.keras.models.load_model(u'C:/D/New/molecule_avo_fig/load_model/load_model_7.1_ring_predict_eig1/20.h5')\n",
    "datafile6=u'C:/D/gogo/reaction/eigvals, eigvecs/20C，2X3，3，隨機，300/X_test2.npy'\n",
    "datafile7=u'C:/D/gogo/reaction/eigvals, eigvecs/20C，2X3，3，隨機，300/y_test2.npy'\n",
    "X_test=np.load(datafile6)\n",
    "y_2=np.load(datafile7)\n",
    "prediction = model.predict(X_test)\n",
    "prediction=np.argmax(prediction,axis=1)\n",
    "print(prediction)\n",
    "print(pd.crosstab(y_2,prediction,rownames=['label'],colnames=['predict']))"
   ]
  }
 ],
 "metadata": {
  "kernelspec": {
   "display_name": "Python (my-rdkit-env)",
   "language": "python",
   "name": "myenv"
  },
  "language_info": {
   "codemirror_mode": {
    "name": "ipython",
    "version": 3
   },
   "file_extension": ".py",
   "mimetype": "text/x-python",
   "name": "python",
   "nbconvert_exporter": "python",
   "pygments_lexer": "ipython3",
   "version": "3.9.5"
  }
 },
 "nbformat": 4,
 "nbformat_minor": 5
}
