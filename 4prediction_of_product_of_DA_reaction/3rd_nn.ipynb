{
  "nbformat": 4,
  "nbformat_minor": 0,
  "metadata": {
    "colab": {
      "name": "3rd_nn.ipynb",
      "provenance": [],
      "include_colab_link": true
    },
    "kernelspec": {
      "name": "python3",
      "display_name": "Python 3"
    },
    "accelerator": "GPU"
  },
  "cells": [
    {
      "cell_type": "markdown",
      "metadata": {
        "id": "view-in-github",
        "colab_type": "text"
      },
      "source": [
        "<a href=\"https://colab.research.google.com/github/Yin-Tzu/predict_DA_reaction_product2/blob/main/4prediction_of_product_of_DA_reaction/3rd_nn.ipynb\" target=\"_parent\"><img src=\"https://colab.research.google.com/assets/colab-badge.svg\" alt=\"Open In Colab\"/></a>"
      ]
    },
    {
      "cell_type": "markdown",
      "metadata": {
        "id": "Y8mvI1qN0j8C"
      },
      "source": [
        "與雲端連接"
      ]
    },
    {
      "cell_type": "code",
      "metadata": {
        "colab": {
          "base_uri": "https://localhost:8080/"
        },
        "id": "z-JpdFAqYoRj",
        "outputId": "2cd8825e-3f41-4e71-9f23-2b74bdf2119f"
      },
      "source": [
        "# 下載 file_id 為 \"1duQU7xqXRsOSPYeOR0zLiSA8g_LCFzoV\" 的檔案，並將它命名為 Minori.jpg\n",
        "!gdown --id '1Ca88p0QKYfIUw7DBloS9M2mJowe5sZVO' \n",
        "!gdown --id '1DnRk30Cjpec3qhDMPDYa-AQbFKVxPqd2'\n",
        "!gdown --id '1lKwCPW4EAOrUQ9OdfkaSP6yvuMQTqRuM'\n",
        "!gdown --id '1LK9zx8XUL7u1KQSQrY5XdeYAuGPx8m1o'\n",
        "# 列出目前目錄下所有的檔案\n",
        "!ls"
      ],
      "execution_count": null,
      "outputs": [
        {
          "output_type": "stream",
          "text": [
            "Downloading...\n",
            "From: https://drive.google.com/uc?id=1Ca88p0QKYfIUw7DBloS9M2mJowe5sZVO\n",
            "To: /content/X_train.npy\n",
            "76.8MB [00:00, 83.9MB/s]\n",
            "Downloading...\n",
            "From: https://drive.google.com/uc?id=1DnRk30Cjpec3qhDMPDYa-AQbFKVxPqd2\n",
            "To: /content/X_test.npy\n",
            "19.2MB [00:00, 41.4MB/s]\n",
            "Downloading...\n",
            "From: https://drive.google.com/uc?id=1lKwCPW4EAOrUQ9OdfkaSP6yvuMQTqRuM\n",
            "To: /content/y_train.npy\n",
            "100% 640k/640k [00:00<00:00, 10.1MB/s]\n",
            "Downloading...\n",
            "From: https://drive.google.com/uc?id=1LK9zx8XUL7u1KQSQrY5XdeYAuGPx8m1o\n",
            "To: /content/y_test.npy\n",
            "100% 160k/160k [00:00<00:00, 5.15MB/s]\n",
            "sample_data  X_test.npy  X_train.npy  y_test.npy  y_train.npy\n"
          ],
          "name": "stdout"
        }
      ]
    },
    {
      "cell_type": "code",
      "metadata": {
        "id": "oeNmlwBpyxHy"
      },
      "source": [
        "import zipfile\n",
        "file_dir = './3，3，3，300000.zip'\n",
        "zipFile = zipfile.ZipFile(file_dir)\n",
        "for file in zipFile.namelist():\n",
        "    zipFile.extract(file, '/content')  # 解压路径\n",
        "zipFile.close()"
      ],
      "execution_count": null,
      "outputs": []
    },
    {
      "cell_type": "markdown",
      "metadata": {
        "id": "bQ7SbJFZ0tPC"
      },
      "source": [
        "訓練模型"
      ]
    },
    {
      "cell_type": "code",
      "metadata": {
        "id": "eRpBq3blguP8",
        "colab": {
          "base_uri": "https://localhost:8080/"
        },
        "outputId": "0d2648ef-d5b9-4671-ae5b-5924fd1a2a76"
      },
      "source": [
        "import tensorflow as tf\n",
        "from tensorflow.keras import layers\n",
        "import matplotlib.pyplot as plt\n",
        "import pandas as pd\n",
        "import numpy as np\n",
        "import time\n",
        "from sklearn import metrics\n",
        "from sklearn.preprocessing import MinMaxScaler\n",
        "import cv2\n",
        "import copy\n",
        "from tensorflow.keras import regularizers\n",
        "\n",
        "\n",
        "tStart = time.time()#計時開始\n",
        "\"\"\"\n",
        "datafile1 = u'./drive/My Drive/X_train.npy'\n",
        "datafile2 = u'./drive/My Drive/y_train.npy'\n",
        "datafile3 = u'./drive/My Drive/X_test.npy'\n",
        "datafile4 = u'./drive/My Drive/y_test.npy'\n",
        "\"\"\"\n",
        "datafile1 = u'./X_train.npy'\n",
        "datafile2 = u'./y_train.npy'\n",
        "datafile3 = u'./X_test.npy'\n",
        "datafile4 = u'./y_test.npy'\n",
        "X_train_image,y_train_label,X_test_image,y_test_label = np.load(datafile1), np.load(datafile2), np.load(datafile3), np.load(datafile4)\n",
        "\"\"\"\n",
        "datafile5 = u'./x_tt.npy'\n",
        "datafile6 = u'./y_tt.npy'\n",
        "x_tt,y_tt=np.load(datafile5), np.load(datafile6)\n",
        "\"\"\"\n",
        "\n",
        "#print(x_tt.shape, y_ttOneHot.shape)\n",
        "\n",
        "print(X_train_image.shape,y_train_label.shape,X_test_image.shape,y_test_label.shape)\n",
        "one = np.where(y_train_label == 1)\n",
        "one = copy.deepcopy(one[0])\n",
        "print(len(one))\n",
        "\n",
        "p = np.where(y_train_label == 0)\n",
        "p = copy.deepcopy(p[0])\n",
        "print(len(p))\n",
        "\n",
        "on = np.where(y_test_label == 1)\n",
        "on = copy.deepcopy(on[0])\n",
        "print(len(on))\n",
        "\n",
        "n = np.where(y_test_label == 0)\n",
        "n = copy.deepcopy(n[0])\n",
        "print(len(n))\n",
        "\n",
        "\n",
        "# validation\n",
        "datafile5 = u'./X_valid.npy'\n",
        "datafile6 = u'./y_valid.npy'\n",
        "X_valid_image,y_valid_label = np.load(datafile5), np.load(datafile6)\n",
        "\n",
        "#X_train_image,y_train_label,X_test_image,y_test_label = X_train,y_train , X_test, y_test\n",
        "#print(X_train_image.shape,y_train_label.shape,X_test_image.shape,y_test_label.shape)\n",
        "\n",
        "\n",
        "\n",
        "print(X_valid_image.shape)\n",
        "X_valid = X_valid_image.astype('float32')\n",
        "\n",
        "#X_valid = X_valid_image.reshape(-1, 128, 128, 3).astype('float32')\n",
        "y_ValidOneHot = tf.keras.utils.to_categorical(y_valid_label)\n",
        "print(y_ValidOneHot.dtype)\n",
        "\n",
        "X_train = X_train_image.reshape(-1, 20, 2, 3).astype('float32')\n",
        "X_test = X_test_image.reshape(-1, 20, 2, 3).astype('float32')\n",
        "y_TrainOneHot = tf.keras.utils.to_categorical(y_train_label)  # One-Hot编码\n",
        "y_TestOneHot = tf.keras.utils.to_categorical(y_test_label)  # https://keras.io/api/utils/python_utils/#to_categorical-function\n",
        "#y_ttOneHot = tf.keras.utils.to_categorical(y_tt, num_classes=2)\n",
        "print(y_TrainOneHot.dtype)\n",
        "print(y_test_label)\n",
        "print(y_TestOneHot)\n",
        "#print(y_tt)\n",
        "#print(y_ttOneHot)\n",
        "\n",
        "from sklearn.externals import joblib\n",
        "#joblib.dump(b, 'eig1')\n",
        "\n",
        "model = tf.keras.models.Sequential()  # 调用Sequential模型\n",
        "model.add(layers.Conv2D(input_shape=(20, 2, 3), filters=240, kernel_size=(5,1), kernel_initializer='TruncatedNormal', strides=1, padding='same', activation='relu', name='conv1',kernel_regularizer=regularizers.l2(0.001)))  # 10*10\n",
        "model.add(layers.MaxPool2D(pool_size=(3,3), strides=2, padding='same', name='pool1'))  # 5*5\n",
        "model.add(layers.Conv2D(filters=480, kernel_size=(3,3), kernel_initializer='TruncatedNormal', strides=1, padding='same', activation='relu', name='conv2',kernel_regularizer=regularizers.l2(0.001)))  # 10*10\n",
        "model.add(layers.MaxPool2D(pool_size=(3,3), strides=2, padding='same', name='pool2'))\n",
        "model.add(layers.Conv2D(filters=480, kernel_size=(3,3), kernel_initializer='TruncatedNormal', strides=1, padding='same', activation='relu', name='conv3',kernel_regularizer=regularizers.l2(0.001)))  # 10*10\n",
        "model.add(layers.MaxPool2D(pool_size=(3,3), strides=2, padding='same', name='pool3'))\n",
        "model.add(layers.Conv2D(filters=96, kernel_size=(3,3), kernel_initializer='TruncatedNormal', strides=1, padding='same', activation='relu', name='conv5'))  # 10*10\n",
        "model.add(layers.MaxPool2D(pool_size=(3,3), strides=2, padding='same', name='pool5'))\n",
        "model.add(layers.Flatten(name='flatten'))\n",
        "model.add(layers.Dense(units=384 , kernel_initializer='TruncatedNormal', activation='relu'))\n",
        "model.add(layers.Dropout(0.2))  #在 0 和 1 之间浮动。需要丢弃的输入比例。\n",
        "model.add(layers.Dense(units=2,kernel_initializer='TruncatedNormal', activation='softmax'))#,input_dim=100\n",
        "\n",
        "print(model.summary())\n",
        "\n",
        "# 模型的训练 编译模型\n",
        "opt = tf.keras.optimizers.Adam(learning_rate=0.00041268)\n",
        "model.compile(loss='categorical_crossentropy', optimizer=opt, metrics=['accuracy'])  # metrics是训练和测试期间的模型评估标准。\n",
        "\n",
        "# 监控val_loss，当连续40轮变化小于0.0001时启动early stopping\n",
        "#es = tf.keras.callbacks.EarlyStopping(monitor='val_loss', mode='min', verbose=1, patience=40, min_delta=0.0001)\n",
        "\n",
        "# 训练模型\n",
        "train_history = model.fit(x=X_train, y=y_TrainOneHot, validation_data=(X_valid, y_ValidOneHot), epochs=30, batch_size=70, verbose=2)  # validation_split=0.25,validation_data=(X_valid, y_ValidOneHot), callbacks=[es])#, callbacks=[tensorboard_callback])  # verbose日志显示，0为不在标准输出流输出日志信息，1为输出进度条记录，2为每个epoch输出一行记录\n",
        "# 查看训练过程，之前的训练步骤的值都保存在这里面。这里共有loss,accuracy,val_loss,val_accuracy四个参数\n",
        "print(train_history.history)\n",
        "\n",
        "# 將模型儲存至 HDF5 檔案中\n",
        "model.save('NN_3_1.h5')  # creates a HDF5 file 'my_model.h5'\n",
        "\n",
        "scores = model.evaluate(X_test,y_TestOneHot)\n",
        "print('loss, accuracy=',scores) #显示测试准确率[1]\n",
        "\n",
        "prediction = model.predict_classes(X_test)\n",
        "# 返回预测属于某标签的概率\n",
        "y_score = model.predict_proba(X_test)\n",
        "#print(y_score)\n",
        "\n",
        "\n",
        "tEnd = time.time()#計時結束\n",
        "#列印結果\n",
        "print(\"It cost %f sec\" % (tEnd - tStart))  #會自動做近位\n",
        "print(tEnd - tStart)  #原型長這樣\n",
        "pyyuj = 1\n",
        "#scores = model.evaluate(x_tt,y_ttOneHot)\n",
        "#print('loss, accuracy=',scores) #显示测试准确率[1]\n",
        "\n",
        "prediction = model.predict_classes(X_test)\n",
        "# 返回预测属于某标签的概率\n",
        "y_score = model.predict_proba(X_test)\n",
        "#print(y_score)\n",
        "\n",
        "\n",
        "tEnd = time.time()#計時結束\n",
        "#列印結果\n",
        "print(\"It cost %f sec\" % (tEnd - tStart))  #會自動做近位\n",
        "print(tEnd - tStart)  #原型長這樣\n",
        "\n",
        "def show_train_history(train_history, train, validation):  # 訓練集驗證準確度對epoch做圖\n",
        "    plt.plot(train_history.history[train])  # 绘制训练数据的执行结果\n",
        "    plt.plot(train_history.history[validation])  # 绘制验证数据的执行结果\n",
        "    plt.title('Train History')  # 图标题\n",
        "    plt.xlabel('epoch')  # x轴标签\n",
        "    plt.ylabel(train)  # y轴标签\n",
        "    plt.legend(['train', 'validation'], loc='upper left')  # 添加左上角图例\n",
        "    plt.show()\n",
        "\n",
        "show_train_history(train_history, 'accuracy', 'val_accuracy')\n",
        "\n",
        "show_train_history(train_history, 'loss', 'val_loss')\n",
        "\n",
        "print(pd.crosstab(y_test_label,prediction,rownames=['label'],colnames=['predict']))   # https://zhuanlan.zhihu.com/p/52368125  其他呈現交叉表方法(平均、彩色圖...)\n",
        "\n"
      ],
      "execution_count": null,
      "outputs": [
        {
          "output_type": "stream",
          "text": [
            "(180000, 20, 2, 3) (180000,) (60000, 20, 2, 3) (60000,)\n",
            "26436\n",
            "153564\n",
            "8814\n",
            "51186\n",
            "(60000, 20, 2, 3)\n",
            "float32\n",
            "float32\n",
            "[1 1 1 ... 0 0 0]\n",
            "[[0. 1.]\n",
            " [0. 1.]\n",
            " [0. 1.]\n",
            " ...\n",
            " [1. 0.]\n",
            " [1. 0.]\n",
            " [1. 0.]]\n"
          ],
          "name": "stdout"
        },
        {
          "output_type": "stream",
          "text": [
            "/usr/local/lib/python3.7/dist-packages/sklearn/externals/joblib/__init__.py:15: FutureWarning: sklearn.externals.joblib is deprecated in 0.21 and will be removed in 0.23. Please import this functionality directly from joblib, which can be installed with: pip install joblib. If this warning is raised when loading pickled models, you may need to re-serialize those models with scikit-learn 0.21+.\n",
            "  warnings.warn(msg, category=FutureWarning)\n"
          ],
          "name": "stderr"
        },
        {
          "output_type": "stream",
          "text": [
            "Model: \"sequential\"\n",
            "_________________________________________________________________\n",
            "Layer (type)                 Output Shape              Param #   \n",
            "=================================================================\n",
            "conv1 (Conv2D)               (None, 20, 2, 240)        3840      \n",
            "_________________________________________________________________\n",
            "pool1 (MaxPooling2D)         (None, 10, 1, 240)        0         \n",
            "_________________________________________________________________\n",
            "conv2 (Conv2D)               (None, 10, 1, 480)        1037280   \n",
            "_________________________________________________________________\n",
            "pool2 (MaxPooling2D)         (None, 5, 1, 480)         0         \n",
            "_________________________________________________________________\n",
            "conv3 (Conv2D)               (None, 5, 1, 480)         2074080   \n",
            "_________________________________________________________________\n",
            "pool3 (MaxPooling2D)         (None, 3, 1, 480)         0         \n",
            "_________________________________________________________________\n",
            "conv5 (Conv2D)               (None, 3, 1, 96)          414816    \n",
            "_________________________________________________________________\n",
            "pool5 (MaxPooling2D)         (None, 2, 1, 96)          0         \n",
            "_________________________________________________________________\n",
            "flatten (Flatten)            (None, 192)               0         \n",
            "_________________________________________________________________\n",
            "dense (Dense)                (None, 384)               74112     \n",
            "_________________________________________________________________\n",
            "dropout (Dropout)            (None, 384)               0         \n",
            "_________________________________________________________________\n",
            "dense_1 (Dense)              (None, 2)                 770       \n",
            "=================================================================\n",
            "Total params: 3,604,898\n",
            "Trainable params: 3,604,898\n",
            "Non-trainable params: 0\n",
            "_________________________________________________________________\n",
            "None\n",
            "Epoch 1/30\n",
            "2813/2813 - 59s - loss: 0.4194 - accuracy: 0.8785 - val_loss: 0.1954 - val_accuracy: 0.9093\n",
            "Epoch 2/30\n",
            "2813/2813 - 26s - loss: 0.1836 - accuracy: 0.9193 - val_loss: 0.1622 - val_accuracy: 0.9321\n",
            "Epoch 3/30\n",
            "2813/2813 - 26s - loss: 0.1577 - accuracy: 0.9384 - val_loss: 0.1489 - val_accuracy: 0.9448\n",
            "Epoch 4/30\n",
            "2813/2813 - 27s - loss: 0.1382 - accuracy: 0.9510 - val_loss: 0.1355 - val_accuracy: 0.9524\n",
            "Epoch 5/30\n",
            "2813/2813 - 27s - loss: 0.1260 - accuracy: 0.9586 - val_loss: 0.1350 - val_accuracy: 0.9543\n",
            "Epoch 6/30\n",
            "2813/2813 - 27s - loss: 0.1163 - accuracy: 0.9648 - val_loss: 0.1147 - val_accuracy: 0.9656\n",
            "Epoch 7/30\n",
            "2813/2813 - 27s - loss: 0.1115 - accuracy: 0.9681 - val_loss: 0.1147 - val_accuracy: 0.9658\n",
            "Epoch 8/30\n",
            "2813/2813 - 27s - loss: 0.1056 - accuracy: 0.9708 - val_loss: 0.1184 - val_accuracy: 0.9631\n",
            "Epoch 9/30\n",
            "2813/2813 - 27s - loss: 0.1030 - accuracy: 0.9724 - val_loss: 0.1043 - val_accuracy: 0.9715\n",
            "Epoch 10/30\n",
            "2813/2813 - 27s - loss: 0.0994 - accuracy: 0.9745 - val_loss: 0.1175 - val_accuracy: 0.9678\n",
            "Epoch 11/30\n",
            "2813/2813 - 27s - loss: 0.0959 - accuracy: 0.9768 - val_loss: 0.1004 - val_accuracy: 0.9751\n",
            "Epoch 12/30\n",
            "2813/2813 - 27s - loss: 0.0919 - accuracy: 0.9782 - val_loss: 0.0984 - val_accuracy: 0.9766\n",
            "Epoch 13/30\n",
            "2813/2813 - 27s - loss: 0.0910 - accuracy: 0.9790 - val_loss: 0.1076 - val_accuracy: 0.9718\n",
            "Epoch 14/30\n",
            "2813/2813 - 27s - loss: 0.0873 - accuracy: 0.9805 - val_loss: 0.0946 - val_accuracy: 0.9759\n",
            "Epoch 15/30\n",
            "2813/2813 - 27s - loss: 0.0863 - accuracy: 0.9811 - val_loss: 0.1065 - val_accuracy: 0.9725\n",
            "Epoch 16/30\n",
            "2813/2813 - 27s - loss: 0.0834 - accuracy: 0.9827 - val_loss: 0.0878 - val_accuracy: 0.9796\n",
            "Epoch 17/30\n",
            "2813/2813 - 27s - loss: 0.0818 - accuracy: 0.9835 - val_loss: 0.0865 - val_accuracy: 0.9821\n",
            "Epoch 18/30\n",
            "2813/2813 - 27s - loss: 0.0815 - accuracy: 0.9834 - val_loss: 0.0873 - val_accuracy: 0.9808\n",
            "Epoch 19/30\n",
            "2813/2813 - 27s - loss: 0.0783 - accuracy: 0.9849 - val_loss: 0.0873 - val_accuracy: 0.9812\n",
            "Epoch 20/30\n",
            "2813/2813 - 27s - loss: 0.0764 - accuracy: 0.9854 - val_loss: 0.0895 - val_accuracy: 0.9797\n",
            "Epoch 21/30\n",
            "2813/2813 - 27s - loss: 0.0756 - accuracy: 0.9859 - val_loss: 0.0776 - val_accuracy: 0.9841\n",
            "Epoch 22/30\n",
            "2813/2813 - 27s - loss: 0.0748 - accuracy: 0.9858 - val_loss: 0.0774 - val_accuracy: 0.9839\n",
            "Epoch 23/30\n",
            "2813/2813 - 27s - loss: 0.0726 - accuracy: 0.9871 - val_loss: 0.0760 - val_accuracy: 0.9855\n",
            "Epoch 24/30\n",
            "2813/2813 - 27s - loss: 0.0724 - accuracy: 0.9869 - val_loss: 0.0782 - val_accuracy: 0.9840\n",
            "Epoch 25/30\n",
            "2813/2813 - 27s - loss: 0.0709 - accuracy: 0.9876 - val_loss: 0.0820 - val_accuracy: 0.9831\n",
            "Epoch 26/30\n",
            "2813/2813 - 27s - loss: 0.0709 - accuracy: 0.9877 - val_loss: 0.0884 - val_accuracy: 0.9801\n",
            "Epoch 27/30\n",
            "2813/2813 - 27s - loss: 0.0705 - accuracy: 0.9880 - val_loss: 0.0791 - val_accuracy: 0.9844\n",
            "Epoch 28/30\n"
          ],
          "name": "stdout"
        }
      ]
    },
    {
      "cell_type": "code",
      "metadata": {
        "colab": {
          "base_uri": "https://localhost:8080/",
          "height": 1000
        },
        "id": "6L-iwfrgsiZt",
        "outputId": "13e5f312-fc98-422a-aacd-46e17e7e48a2"
      },
      "source": [
        "from PIL import Image\n",
        "from sklearn.preprocessing import MinMaxScaler\n",
        "from sklearn import preprocessing\n",
        "prediction = model.predict_classes(X_test)\n",
        "df = pd.DataFrame({'label':y_test_label,'predict':prediction})\n",
        "j=0\n",
        "for i in df[(df.label==0)&(df.predict==1)].index:\n",
        "    fig = plt.gcf()\n",
        "    fig.set_size_inches(12, 14)  # 设置图表大小\n",
        "    nums = len(df[(df.label==0)&(df.predict==1)].index)\n",
        "    ax = plt.subplot(5, 5, 1 + j)  # 子图生成\n",
        "    MiMaScaler = preprocessing.MinMaxScaler(feature_range=(0, 255))#\n",
        "    nsamples, nx, ny, d = X_test_image.shape\n",
        "    n = X_test_image.reshape((nsamples*nx*ny*d, 1))\n",
        "    MiMaScaler.fit(n)\n",
        "    v=MiMaScaler.transform(n)\n",
        "    X_test_image = v.reshape((nsamples,nx, ny, d))\n",
        "    img = Image.fromarray(np.uint8(X_test_image[i]))\n",
        "    ax.imshow(img)  # idx是为了方便索引所要查询的图像, cmap='binary'\n",
        "    title = 'label=' + str(y_test_label[i])  # 定义title方便图像结果对应\n",
        "    if (len(prediction) > 0):  # 如果有预测图像，则显示预测结果\n",
        "        title += 'prediction=' + str(prediction[i])\n",
        "    ax.set_title(title, fontsize=10)  # 设置图像title\n",
        "    ax.set_xticks([])  # 无x刻度\n",
        "    ax.set_yticks([])  # 无y刻度\n",
        "    j+=1\n",
        "plt.show()\n",
        "\n",
        "j=0\n",
        "for i in df[(df.label==1)&(df.predict==0)].index:\n",
        "    print(X_test_image[i])\n",
        "    #print(i)\n",
        "    fig = plt.gcf()\n",
        "    fig.set_size_inches(12, 14)  # 设置图表大小\n",
        "    nums = len(df[(df.label==0)&(df.predict==1)].index)\n",
        "    ax = plt.subplot(5, 5, 1 + j)  # 子图生成\n",
        "    #if (1 + j)==20:\n",
        "    #  print(X_test_image[i])\n",
        "    MiMaScaler = preprocessing.MinMaxScaler(feature_range=(0, 255))#\n",
        "    nsamples, nx, ny, d = X_test_image.shape\n",
        "    n = X_test_image.reshape((nsamples*nx*ny*d, 1))\n",
        "    MiMaScaler.fit(n)\n",
        "    v=MiMaScaler.transform(n)\n",
        "    X_test_image = v.reshape((nsamples,nx, ny, d))\n",
        "    img = Image.fromarray(np.uint8(X_test_image[i]))\n",
        "    ax.imshow(img)  # idx是为了方便索引所要查询的图像, cmap='binary'\n",
        "    title = 'label=' + str(y_test_label[i])  # 定义title方便图像结果对应\n",
        "    if (len(prediction) > 0):  # 如果有预测图像，则显示预测结果\n",
        "        title += 'prediction=' + str(prediction[i])\n",
        "    ax.set_title(title, fontsize=10)  # 设置图像title\n",
        "    ax.set_xticks([])  # 无x刻度\n",
        "    ax.set_yticks([])  # 无y刻度\n",
        "    j+=1\n",
        "plt.show()"
      ],
      "execution_count": null,
      "outputs": [
        {
          "output_type": "stream",
          "text": [
            "/usr/local/lib/python3.7/dist-packages/tensorflow/python/keras/engine/sequential.py:450: UserWarning: `model.predict_classes()` is deprecated and will be removed after 2021-01-01. Please use instead:* `np.argmax(model.predict(x), axis=-1)`,   if your model does multi-class classification   (e.g. if it uses a `softmax` last-layer activation).* `(model.predict(x) > 0.5).astype(\"int32\")`,   if your model does binary classification   (e.g. if it uses a `sigmoid` last-layer activation).\n",
            "  warnings.warn('`model.predict_classes()` is deprecated and '\n"
          ],
          "name": "stderr"
        },
        {
          "output_type": "error",
          "ename": "ValueError",
          "evalue": "ignored",
          "traceback": [
            "\u001b[0;31m---------------------------------------------------------------------------\u001b[0m",
            "\u001b[0;31mValueError\u001b[0m                                Traceback (most recent call last)",
            "\u001b[0;32m<ipython-input-3-bc024a800cba>\u001b[0m in \u001b[0;36m<module>\u001b[0;34m()\u001b[0m\n\u001b[1;32m      9\u001b[0m     \u001b[0mfig\u001b[0m\u001b[0;34m.\u001b[0m\u001b[0mset_size_inches\u001b[0m\u001b[0;34m(\u001b[0m\u001b[0;36m12\u001b[0m\u001b[0;34m,\u001b[0m \u001b[0;36m14\u001b[0m\u001b[0;34m)\u001b[0m  \u001b[0;31m# 设置图表大小\u001b[0m\u001b[0;34m\u001b[0m\u001b[0;34m\u001b[0m\u001b[0m\n\u001b[1;32m     10\u001b[0m     \u001b[0mnums\u001b[0m \u001b[0;34m=\u001b[0m \u001b[0mlen\u001b[0m\u001b[0;34m(\u001b[0m\u001b[0mdf\u001b[0m\u001b[0;34m[\u001b[0m\u001b[0;34m(\u001b[0m\u001b[0mdf\u001b[0m\u001b[0;34m.\u001b[0m\u001b[0mlabel\u001b[0m\u001b[0;34m==\u001b[0m\u001b[0;36m0\u001b[0m\u001b[0;34m)\u001b[0m\u001b[0;34m&\u001b[0m\u001b[0;34m(\u001b[0m\u001b[0mdf\u001b[0m\u001b[0;34m.\u001b[0m\u001b[0mpredict\u001b[0m\u001b[0;34m==\u001b[0m\u001b[0;36m1\u001b[0m\u001b[0;34m)\u001b[0m\u001b[0;34m]\u001b[0m\u001b[0;34m.\u001b[0m\u001b[0mindex\u001b[0m\u001b[0;34m)\u001b[0m\u001b[0;34m\u001b[0m\u001b[0;34m\u001b[0m\u001b[0m\n\u001b[0;32m---> 11\u001b[0;31m     \u001b[0max\u001b[0m \u001b[0;34m=\u001b[0m \u001b[0mplt\u001b[0m\u001b[0;34m.\u001b[0m\u001b[0msubplot\u001b[0m\u001b[0;34m(\u001b[0m\u001b[0;36m5\u001b[0m\u001b[0;34m,\u001b[0m \u001b[0;36m5\u001b[0m\u001b[0;34m,\u001b[0m \u001b[0;36m1\u001b[0m \u001b[0;34m+\u001b[0m \u001b[0mj\u001b[0m\u001b[0;34m)\u001b[0m  \u001b[0;31m# 子图生成\u001b[0m\u001b[0;34m\u001b[0m\u001b[0;34m\u001b[0m\u001b[0m\n\u001b[0m\u001b[1;32m     12\u001b[0m     \u001b[0mMiMaScaler\u001b[0m \u001b[0;34m=\u001b[0m \u001b[0mpreprocessing\u001b[0m\u001b[0;34m.\u001b[0m\u001b[0mMinMaxScaler\u001b[0m\u001b[0;34m(\u001b[0m\u001b[0mfeature_range\u001b[0m\u001b[0;34m=\u001b[0m\u001b[0;34m(\u001b[0m\u001b[0;36m0\u001b[0m\u001b[0;34m,\u001b[0m \u001b[0;36m255\u001b[0m\u001b[0;34m)\u001b[0m\u001b[0;34m)\u001b[0m\u001b[0;31m#\u001b[0m\u001b[0;34m\u001b[0m\u001b[0;34m\u001b[0m\u001b[0m\n\u001b[1;32m     13\u001b[0m     \u001b[0mnsamples\u001b[0m\u001b[0;34m,\u001b[0m \u001b[0mnx\u001b[0m\u001b[0;34m,\u001b[0m \u001b[0mny\u001b[0m\u001b[0;34m,\u001b[0m \u001b[0md\u001b[0m \u001b[0;34m=\u001b[0m \u001b[0mX_test_image\u001b[0m\u001b[0;34m.\u001b[0m\u001b[0mshape\u001b[0m\u001b[0;34m\u001b[0m\u001b[0;34m\u001b[0m\u001b[0m\n",
            "\u001b[0;32m/usr/local/lib/python3.7/dist-packages/matplotlib/pyplot.py\u001b[0m in \u001b[0;36msubplot\u001b[0;34m(*args, **kwargs)\u001b[0m\n\u001b[1;32m   1028\u001b[0m \u001b[0;34m\u001b[0m\u001b[0m\n\u001b[1;32m   1029\u001b[0m     \u001b[0mfig\u001b[0m \u001b[0;34m=\u001b[0m \u001b[0mgcf\u001b[0m\u001b[0;34m(\u001b[0m\u001b[0;34m)\u001b[0m\u001b[0;34m\u001b[0m\u001b[0;34m\u001b[0m\u001b[0m\n\u001b[0;32m-> 1030\u001b[0;31m     \u001b[0ma\u001b[0m \u001b[0;34m=\u001b[0m \u001b[0mfig\u001b[0m\u001b[0;34m.\u001b[0m\u001b[0madd_subplot\u001b[0m\u001b[0;34m(\u001b[0m\u001b[0;34m*\u001b[0m\u001b[0margs\u001b[0m\u001b[0;34m,\u001b[0m \u001b[0;34m**\u001b[0m\u001b[0mkwargs\u001b[0m\u001b[0;34m)\u001b[0m\u001b[0;34m\u001b[0m\u001b[0;34m\u001b[0m\u001b[0m\n\u001b[0m\u001b[1;32m   1031\u001b[0m     \u001b[0mbbox\u001b[0m \u001b[0;34m=\u001b[0m \u001b[0ma\u001b[0m\u001b[0;34m.\u001b[0m\u001b[0mbbox\u001b[0m\u001b[0;34m\u001b[0m\u001b[0;34m\u001b[0m\u001b[0m\n\u001b[1;32m   1032\u001b[0m     \u001b[0mbyebye\u001b[0m \u001b[0;34m=\u001b[0m \u001b[0;34m[\u001b[0m\u001b[0;34m]\u001b[0m\u001b[0;34m\u001b[0m\u001b[0;34m\u001b[0m\u001b[0m\n",
            "\u001b[0;32m/usr/local/lib/python3.7/dist-packages/matplotlib/figure.py\u001b[0m in \u001b[0;36madd_subplot\u001b[0;34m(self, *args, **kwargs)\u001b[0m\n\u001b[1;32m   1417\u001b[0m                     \u001b[0mself\u001b[0m\u001b[0;34m.\u001b[0m\u001b[0m_axstack\u001b[0m\u001b[0;34m.\u001b[0m\u001b[0mremove\u001b[0m\u001b[0;34m(\u001b[0m\u001b[0max\u001b[0m\u001b[0;34m)\u001b[0m\u001b[0;34m\u001b[0m\u001b[0;34m\u001b[0m\u001b[0m\n\u001b[1;32m   1418\u001b[0m \u001b[0;34m\u001b[0m\u001b[0m\n\u001b[0;32m-> 1419\u001b[0;31m             \u001b[0ma\u001b[0m \u001b[0;34m=\u001b[0m \u001b[0msubplot_class_factory\u001b[0m\u001b[0;34m(\u001b[0m\u001b[0mprojection_class\u001b[0m\u001b[0;34m)\u001b[0m\u001b[0;34m(\u001b[0m\u001b[0mself\u001b[0m\u001b[0;34m,\u001b[0m \u001b[0;34m*\u001b[0m\u001b[0margs\u001b[0m\u001b[0;34m,\u001b[0m \u001b[0;34m**\u001b[0m\u001b[0mkwargs\u001b[0m\u001b[0;34m)\u001b[0m\u001b[0;34m\u001b[0m\u001b[0;34m\u001b[0m\u001b[0m\n\u001b[0m\u001b[1;32m   1420\u001b[0m \u001b[0;34m\u001b[0m\u001b[0m\n\u001b[1;32m   1421\u001b[0m         \u001b[0;32mreturn\u001b[0m \u001b[0mself\u001b[0m\u001b[0;34m.\u001b[0m\u001b[0m_add_axes_internal\u001b[0m\u001b[0;34m(\u001b[0m\u001b[0mkey\u001b[0m\u001b[0;34m,\u001b[0m \u001b[0ma\u001b[0m\u001b[0;34m)\u001b[0m\u001b[0;34m\u001b[0m\u001b[0;34m\u001b[0m\u001b[0m\n",
            "\u001b[0;32m/usr/local/lib/python3.7/dist-packages/matplotlib/axes/_subplots.py\u001b[0m in \u001b[0;36m__init__\u001b[0;34m(self, fig, *args, **kwargs)\u001b[0m\n\u001b[1;32m     64\u001b[0m                 \u001b[0;32mif\u001b[0m \u001b[0mnum\u001b[0m \u001b[0;34m<\u001b[0m \u001b[0;36m1\u001b[0m \u001b[0;32mor\u001b[0m \u001b[0mnum\u001b[0m \u001b[0;34m>\u001b[0m \u001b[0mrows\u001b[0m\u001b[0;34m*\u001b[0m\u001b[0mcols\u001b[0m\u001b[0;34m:\u001b[0m\u001b[0;34m\u001b[0m\u001b[0;34m\u001b[0m\u001b[0m\n\u001b[1;32m     65\u001b[0m                     raise ValueError(\n\u001b[0;32m---> 66\u001b[0;31m                         f\"num must be 1 <= num <= {rows*cols}, not {num}\")\n\u001b[0m\u001b[1;32m     67\u001b[0m                 self._subplotspec = GridSpec(\n\u001b[1;32m     68\u001b[0m                         rows, cols, figure=self.figure)[int(num) - 1]\n",
            "\u001b[0;31mValueError\u001b[0m: num must be 1 <= num <= 25, not 26"
          ]
        },
        {
          "output_type": "display_data",
          "data": {
            "image/png": "[encoded data removed]",
            "text/plain": [
              "<Figure size 864x1008 with 25 Axes>"
            ]
          },
          "metadata": {
            "tags": []
          }
        }
      ]
    },
    {
      "cell_type": "markdown",
      "metadata": {
        "id": "uDjh-fNZ1_3B"
      },
      "source": [
        "看權重及特徵圖"
      ]
    },
    {
      "cell_type": "code",
      "metadata": {
        "id": "H5nZ1L212ADK"
      },
      "source": [
        "import matplotlib.pyplot as plt\n",
        "from tensorflow.keras.models import Model\n",
        "from PIL import Image\n",
        "\n",
        "filters, biases = model.layers[0].get_weights()  # 得到該層的權重和偏差\n",
        "#print(filters, biases)\n",
        "# normalize filter values to 0-1 so we can visualize them\n",
        "f_min, f_max = filters.min(), filters.max()\n",
        "filters = (filters - f_min) / (f_max - f_min)\n",
        "# plot first few filters\n",
        "n_filters = 16\n",
        "for i in range(n_filters):\n",
        "    # get the filter\n",
        "    f = filters[:, :, :, i]\n",
        "    # specify subplot and turn of axis\n",
        "    #ax = plt.subplot(3, 6, (i+1))\n",
        "    plt.xticks(())\n",
        "    plt.yticks(())\n",
        "    # plot filter channel in grayscale\n",
        "    plt.imshow(f)#, cmap='gray'\n",
        "    #outdir = u'D:/New/CNN_Huckel/in_CNN/20200612/'\n",
        "    name1 = str(601)+'/f1/' + str(i) + '.jpg'\n",
        "    #plt.savefig(outdir + name1)\n",
        "    #plt.clf()\n",
        "    # show the figure\n",
        "    plt.show()\n",
        "    plt.clf()\n",
        "\n",
        "\n",
        "test2 = X_test[2][np.newaxis, :]\n",
        "prediction = model.predict_classes(test2)\n",
        "print(prediction)\n",
        "test1 = X_test[1][np.newaxis, :]\n",
        "yy = y_test_label.tolist()\n",
        "test3 = X_test[yy.index(1)][np.newaxis, :]\n",
        "\n",
        "\n",
        "\n",
        "def feature_map(layers, name, m, test = test2, aa=4,b=4, full=None):\n",
        "    model1 = Model(inputs=model.inputs, outputs=model.layers[layers].output)\n",
        "    model1.summary()\n",
        "    feature_maps = model1.predict(test)\n",
        "    f_min, f_max = feature_maps.min(), feature_maps.max()\n",
        "    feature_maps = (feature_maps - f_min) / (f_max - f_min)\n",
        "    ix = 1\n",
        "    for _ in range(aa):\n",
        "        for _ in range(b):\n",
        "            if full is True:\n",
        "                ax = plt.subplot(aa, b, ix)\n",
        "                ax.set_xticks([])\n",
        "                ax.set_yticks([])\n",
        "                a = feature_maps[0, ix - 1]\n",
        "                a = np.array([[a]])\n",
        "                plt.imshow(a, cmap='gray', vmin=0, vmax=1)\n",
        "            else:\n",
        "                #plt.imshow(feature_maps[0, :, :, (ix - 1)])  #, cmap='gray'\n",
        "                # cv.imwrite(u'D:/New/CNN_Huckel/in_CNN/20200609/pool1' + str(ix-1) + '.jpg', feature_maps[0, :, :, (ix-1)])\n",
        "                plt.imshow(feature_maps[0, :, :, (ix - 1)], cmap='gray')  #, cmap='binary'\n",
        "                plt.xticks(())\n",
        "                plt.yticks(())\n",
        "                plt.show()\n",
        "            #outdir = u'D:/New/CNN_Huckel/in_CNN/20200612/'\n",
        "            name1 = str(m)+'/'+name+'/'+str(ix)+'.jpg'\n",
        "            #plt.savefig(outdir + name1)\n",
        "            ix += 1\n",
        "    plt.show()\n",
        "    plt.clf()\n",
        "\n",
        "\n",
        "\n",
        "feature_map(0, test = test2, aa=1, b=16, name = 'conv1', m=602)  #捲積層1\n",
        "feature_map(0, test = test3, aa=1, b=16, name = 'conv1', m=602)  #捲積層1\n",
        "feature_map(1, test = test3, aa=1, b=16, name = 'conv1', m=602)  #捲積層1\n",
        "\n",
        "test1_1 = X_test[yy.index(1)].reshape(20,2,3)\n",
        "print(test1_1)\n",
        "t_min, t_max = test1_1.min(), test1_1.max()\n",
        "test1_1 = (test1_1 - t_min) / (t_max - t_min)\n",
        "print(test1_1)\n",
        "test1_1=test1_1*255\n",
        "print(test1_1)\n",
        "img = Image.fromarray(np.uint8(test1_1))#, mode='L'\n",
        "plt.imshow(img, cmap='gray', vmin=0, vmax=255) # 顯示圖片\n",
        "plt.axis('off') # 不顯示座標軸\n",
        "plt.show()"
      ],
      "execution_count": null,
      "outputs": []
    },
    {
      "cell_type": "code",
      "metadata": {
        "colab": {
          "base_uri": "https://localhost:8080/",
          "height": 17
        },
        "id": "oc2oXmrxZIs_",
        "outputId": "2756b60a-8240-478a-d48d-fd8a4af057c5"
      },
      "source": [
        "from google.colab import files\n",
        "files.download(\"NN_3_1.h5\")"
      ],
      "execution_count": null,
      "outputs": [
        {
          "output_type": "display_data",
          "data": {
            "application/javascript": [
              "\n",
              "    async function download(id, filename, size) {\n",
              "      if (!google.colab.kernel.accessAllowed) {\n",
              "        return;\n",
              "      }\n",
              "      const div = document.createElement('div');\n",
              "      const label = document.createElement('label');\n",
              "      label.textContent = `Downloading \"${filename}\": `;\n",
              "      div.appendChild(label);\n",
              "      const progress = document.createElement('progress');\n",
              "      progress.max = size;\n",
              "      div.appendChild(progress);\n",
              "      document.body.appendChild(div);\n",
              "\n",
              "      const buffers = [];\n",
              "      let downloaded = 0;\n",
              "\n",
              "      const channel = await google.colab.kernel.comms.open(id);\n",
              "      // Send a message to notify the kernel that we're ready.\n",
              "      channel.send({})\n",
              "\n",
              "      for await (const message of channel.messages) {\n",
              "        // Send a message to notify the kernel that we're ready.\n",
              "        channel.send({})\n",
              "        if (message.buffers) {\n",
              "          for (const buffer of message.buffers) {\n",
              "            buffers.push(buffer);\n",
              "            downloaded += buffer.byteLength;\n",
              "            progress.value = downloaded;\n",
              "          }\n",
              "        }\n",
              "      }\n",
              "      const blob = new Blob(buffers, {type: 'application/binary'});\n",
              "      const a = document.createElement('a');\n",
              "      a.href = window.URL.createObjectURL(blob);\n",
              "      a.download = filename;\n",
              "      div.appendChild(a);\n",
              "      a.click();\n",
              "      div.remove();\n",
              "    }\n",
              "  "
            ],
            "text/plain": [
              "<IPython.core.display.Javascript object>"
            ]
          },
          "metadata": {
            "tags": []
          }
        },
        {
          "output_type": "display_data",
          "data": {
            "application/javascript": [
              "download(\"download_d77bd86b-f00d-45d0-b708-60d070e6c6ce\", \"NN_3_1.h5\", 8909536)"
            ],
            "text/plain": [
              "<IPython.core.display.Javascript object>"
            ]
          },
          "metadata": {
            "tags": []
          }
        }
      ]
    }
  ]
}